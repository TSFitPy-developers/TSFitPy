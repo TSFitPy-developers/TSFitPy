{
 "cells": [
  {
   "cell_type": "code",
   "execution_count": null,
   "metadata": {
    "collapsed": true
   },
   "outputs": [],
   "source": [
    "from __future__ import annotations\n",
    "from scripts_for_plotting import *"
   ]
  },
  {
   "cell_type": "code",
   "execution_count": null,
   "outputs": [],
   "source": [
    "# CHANGE NEXT TWO LINES\n",
    "configuration_file_location: str = \"../input_files/tsfitpy_input_configuration.txt\" # CHANGE\n",
    "output_folder_location: str = \"../output_files/OUTPUTCHANGEHERE/\" # CHANGE\n",
    "# loads all data from config file and output\n",
    "config_dict = load_output_data(configuration_file_location, output_folder_location)"
   ],
   "metadata": {
    "collapsed": false
   }
  },
  {
   "cell_type": "code",
   "execution_count": null,
   "outputs": [],
   "source": [
    "output_results_pd_df = config_dict[\"output_file_df\"]   # Pandas dataframe for your own use\n",
    "print(\"Column names are:\")\n",
    "print(output_results_pd_df.columns.values)             # Column names if you want to plot them\n",
    "output_results_pd_df"
   ],
   "metadata": {
    "collapsed": false
   }
  },
  {
   "cell_type": "code",
   "execution_count": null,
   "outputs": [],
   "source": [
    "# can plot your own results using column names from the data frame\n",
    "# can also take any extra arguments just like plt.scatter, example with color='black' is shown below\n",
    "# can also add e.g. xlim=(-5, 5) or ylim=(-1, 1) for x and y limits\n",
    "# CHANGE COLUMN NAMES IF NEEDED\n",
    "plot_scatter_df_results(output_results_pd_df, \"Fe_H\", \"chi_squared\", color='black')\n",
    "# works in similar way, but plots the density map with the desired cmap\n",
    "# s=10 stands for point size\n",
    "plot_density_df_results(output_results_pd_df, \"Fe_H\", \"chi_squared\", s=10, cmap=\"plasma_r\", alpha=0.5)\n",
    "# also histogram if needed as well\n",
    "plot_histogram_df_results(output_results_pd_df, \"Fe_H\", color='grey', bins=20, alpha=0.5, histtype='bar', ec='black')"
   ],
   "metadata": {
    "collapsed": false
   }
  },
  {
   "cell_type": "code",
   "execution_count": null,
   "outputs": [],
   "source": [
    "# CHANGE NEXT LINE\n",
    "star_name_to_plot: str = \"CHANGE_NAME_OF_STAR_TO_PLOT_HERE\" # CHANGE\n",
    "# plots all fitted lines for the requested star\n",
    "plot_one_star(config_dict, star_name_to_plot)"
   ],
   "metadata": {
    "collapsed": false
   }
  },
  {
   "cell_type": "code",
   "execution_count": null,
   "outputs": [],
   "source": [
    "# can also plot all stars and all lines as well\n",
    "for specname in set(output_results_pd_df[\"specname\"].values):\n",
    "    print(specname)\n",
    "    plot_one_star(config_dict, specname)"
   ],
   "metadata": {
    "collapsed": false
   }
  },
  {
   "cell_type": "code",
   "execution_count": null,
   "outputs": [],
   "source": [],
   "metadata": {
    "collapsed": false
   }
  }
 ],
 "metadata": {
  "kernelspec": {
   "display_name": "Python 3",
   "language": "python",
   "name": "python3"
  },
  "language_info": {
   "codemirror_mode": {
    "name": "ipython",
    "version": 2
   },
   "file_extension": ".py",
   "mimetype": "text/x-python",
   "name": "python",
   "nbconvert_exporter": "python",
   "pygments_lexer": "ipython2",
   "version": "2.7.6"
  }
 },
 "nbformat": 4,
 "nbformat_minor": 0
}
