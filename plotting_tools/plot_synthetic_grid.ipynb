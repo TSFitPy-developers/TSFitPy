{
 "cells": [
  {
   "cell_type": "code",
   "execution_count": null,
   "id": "initial_id",
   "metadata": {
    "collapsed": true
   },
   "outputs": [],
   "source": [
    "from __future__ import annotations\n",
    "try:\n",
    "    from scripts_for_plotting import *\n",
    "except ModuleNotFoundError:\n",
    "    raise ModuleNotFoundError(\"You need to run this in a folder with the scripts_for_plotting.py file\")"
   ]
  },
  {
   "cell_type": "code",
   "execution_count": null,
   "outputs": [],
   "source": [
    "# CHANGE NEXT LINE\n",
    "output_folder_location: str = \"../synthetic_spectra/OUTPUTCHANGEHERE/\" # CHANGE\n",
    "grid_df = load_output_grid(output_folder_location)  # dataframe with all the output data\n",
    "print(\"Column names are:\")\n",
    "print(output_results_pd_df.columns.values)             # Column names if you want to plot them\n",
    "grid_df"
   ],
   "metadata": {
    "collapsed": false
   },
   "id": "23ab1dc7151760a8"
  },
  {
   "cell_type": "code",
   "execution_count": null,
   "outputs": [],
   "source": [
    "# can plot your own results using column names from the data frame\n",
    "# can also take any extra arguments just like plt.scatter, example with color='black' is shown below\n",
    "# can also add e.g. xlim=(-5, 5) or ylim=(-1, 1) for x and y limits\n",
    "# CHANGE COLUMN NAMES IF NEEDED\n",
    "plot_scatter_df_results(output_results_pd_df, \"teff\", \"logg\", color='feh') # can pass colour as a column name or as a colour\n",
    "# works in similar way, but plots the density map with the desired cmap\n",
    "# s=10 stands for point size\n",
    "plot_density_df_results(output_results_pd_df, \"teff\", \"logg\", s=10, cmap=\"plasma_r\", alpha=0.5)\n",
    "# also histogram if needed as well\n",
    "plot_histogram_df_results(output_results_pd_df, \"feh\", color='grey', bins=20, alpha=0.5, histtype='bar', ec='black')"
   ],
   "metadata": {
    "collapsed": false
   },
   "id": "9549e09b26ac3793"
  },
  {
   "cell_type": "code",
   "execution_count": null,
   "outputs": [],
   "source": [
    "# can also plot individual synthetic spectra\n",
    "plot_synthetic_spectra(output_folder_location, \"0.spec\")"
   ],
   "metadata": {
    "collapsed": false
   },
   "id": "2431292b029869c5"
  },
  {
   "cell_type": "code",
   "execution_count": null,
   "outputs": [],
   "source": [],
   "metadata": {
    "collapsed": false
   },
   "id": "8757b2a382422fd"
  }
 ],
 "metadata": {
  "kernelspec": {
   "display_name": "Python 3",
   "language": "python",
   "name": "python3"
  },
  "language_info": {
   "codemirror_mode": {
    "name": "ipython",
    "version": 2
   },
   "file_extension": ".py",
   "mimetype": "text/x-python",
   "name": "python",
   "nbconvert_exporter": "python",
   "pygments_lexer": "ipython2",
   "version": "2.7.6"
  }
 },
 "nbformat": 4,
 "nbformat_minor": 5
}
